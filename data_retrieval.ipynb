{
 "cells": [
  {
   "cell_type": "markdown",
   "metadata": {},
   "source": [
    "##### Data Retrieval for CSE 512 Project\n",
    "\n",
    "**WIP**\n",
    "\n",
    "Currently just experimenting with python packages to help retreive data from Youtube\n",
    "\n",
    "**WIP**"
   ]
  },
  {
   "cell_type": "code",
   "execution_count": 24,
   "metadata": {},
   "outputs": [],
   "source": [
    "#Imports\n",
    "import numpy as np\n",
    "import pandas as pd\n",
    "from pyyoutube import Api\n",
    "import json"
   ]
  },
  {
   "cell_type": "code",
   "execution_count": 26,
   "metadata": {},
   "outputs": [],
   "source": [
    "#Dotenv stores youtube api key. This codebase does not provide key. You must provide your own in a .env file\n",
    "import os\n",
    "import dotenv\n",
    "dotenv.load_dotenv()\n",
    "youtube_api_key = os.getenv(\"YOUTUBE_API_KEY\")"
   ]
  },
  {
   "cell_type": "code",
   "execution_count": 27,
   "metadata": {},
   "outputs": [
    {
     "data": {
      "text/plain": [
       "<pyyoutube.api.Api at 0x24bdc7297e0>"
      ]
     },
     "execution_count": 27,
     "metadata": {},
     "output_type": "execute_result"
    }
   ],
   "source": [
    "#Initializes api object (pyyoutube package)\n",
    "api = Api(api_key=youtube_api_key)\n",
    "api"
   ]
  },
  {
   "cell_type": "code",
   "execution_count": 10,
   "metadata": {},
   "outputs": [
    {
     "data": {
      "text/plain": [
       "[Video(kind='youtube#video', id='zwa7NzNBQig'),\n",
       " Video(kind='youtube#video', id='r9_DkfLkkY8'),\n",
       " Video(kind='youtube#video', id='3nat8_GSuUE'),\n",
       " Video(kind='youtube#video', id='v7MTD0Gu7n4'),\n",
       " Video(kind='youtube#video', id='l_HpGo8-AQs'),\n",
       " Video(kind='youtube#video', id='cb493eOrYK0'),\n",
       " Video(kind='youtube#video', id='YZDFAmaaa6E'),\n",
       " Video(kind='youtube#video', id='ZQt4vbEobUE'),\n",
       " Video(kind='youtube#video', id='x3bqbzSmuSc'),\n",
       " Video(kind='youtube#video', id='clW-wHNHJEg')]"
      ]
     },
     "execution_count": 10,
     "metadata": {},
     "output_type": "execute_result"
    }
   ],
   "source": [
    "video_by_chart = api.get_videos_by_chart(chart=\"mostPopular\", region_code=\"US\", count=10)\n",
    "videos = video_by_chart.items\n",
    "videos"
   ]
  },
  {
   "cell_type": "code",
   "execution_count": 11,
   "metadata": {},
   "outputs": [
    {
     "data": {
      "text/plain": [
       "Video(kind='youtube#video', id='zwa7NzNBQig')"
      ]
     },
     "execution_count": 11,
     "metadata": {},
     "output_type": "execute_result"
    }
   ],
   "source": [
    "videos[0]"
   ]
  },
  {
   "cell_type": "code",
   "execution_count": 19,
   "metadata": {},
   "outputs": [
    {
     "data": {
      "text/plain": [
       "VideoStatistics(viewCount='3568304', likeCount='257932')"
      ]
     },
     "execution_count": 19,
     "metadata": {},
     "output_type": "execute_result"
    }
   ],
   "source": [
    "video = videos[0]\n",
    "stats = video.statistics\n",
    "stats"
   ]
  },
  {
   "cell_type": "code",
   "execution_count": 22,
   "metadata": {},
   "outputs": [
    {
     "name": "stdout",
     "output_type": "stream",
     "text": [
      "{'viewCount': '3568304', 'likeCount': '257932', 'dislikeCount': None, 'commentCount': '20915'}\n"
     ]
    }
   ],
   "source": [
    "stats.viewCount\n",
    "print(stats.to_dict())"
   ]
  },
  {
   "cell_type": "code",
   "execution_count": 25,
   "metadata": {},
   "outputs": [
    {
     "name": "stdout",
     "output_type": "stream",
     "text": [
      "{\n",
      "    \"kind\": \"youtube#video\",\n",
      "    \"etag\": \"wIu9CSFvpNGHsg35WW-tHHq5re4\",\n",
      "    \"id\": \"zwa7NzNBQig\",\n",
      "    \"snippet\": {\n",
      "        \"publishedAt\": \"2022-09-23T04:00:19Z\",\n",
      "        \"channelId\": \"UCmlkznD61Olu82oYGFr8gxg\",\n",
      "        \"title\": \"GloRilla, Cardi B - Tomorrow 2 (Official Music Video)\",\n",
      "        \"description\": \"Stream #Tomorrow2' here: \\nhttps://GloRilla.lnk.to/Tomorrow2\\n\\nFollow #GloRilla:\\nInstagram: https://www.instagram.com/glorillapimp/\\nTikTok: https://www.tiktok.com/t/ZTR6WV6SC/\\nFacebook: https://www.facebook.com/gloyaltygirl\\nTwitter: https://twitter.com/GloTheofficial\\nFollow #CardiB:\\nInstagram: https://www.instagram.com/iamcardib/\\nTikTok: https://www.tiktok.com/@iamcardib\\nFacebook: https://www.facebook.com/cardib\\nTwitter: https://twitter.com/iamcardib/\\n\\n#Tomorrow2 #GloRilla #CardiB\\n\\nMusic video by GloRilla, Cardi B performing Tomorrow 2. \\u00a9 2022 CMG Enterprises/Interscope Records\\n\\nhttp://vevo.ly/JKU3ao\",\n",
      "        \"thumbnails\": {\n",
      "            \"default\": {\n",
      "                \"url\": \"https://i.ytimg.com/vi/zwa7NzNBQig/default.jpg\",\n",
      "                \"width\": 120,\n",
      "                \"height\": 90\n",
      "            },\n",
      "            \"medium\": {\n",
      "                \"url\": \"https://i.ytimg.com/vi/zwa7NzNBQig/mqdefault.jpg\",\n",
      "                \"width\": 320,\n",
      "                \"height\": 180\n",
      "            },\n",
      "            \"high\": {\n",
      "                \"url\": \"https://i.ytimg.com/vi/zwa7NzNBQig/hqdefault.jpg\",\n",
      "                \"width\": 480,\n",
      "                \"height\": 360\n",
      "            },\n",
      "            \"standard\": null,\n",
      "            \"maxres\": null\n",
      "        },\n",
      "        \"channelTitle\": \"GloRillaVEVO\",\n",
      "        \"tags\": [\n",
      "            \"GloRilla\",\n",
      "            \"Cardi\",\n",
      "            \"Tomorrow\",\n",
      "            \"CMG/Interscope\",\n",
      "            \"Records\",\n",
      "            \"Hip\",\n",
      "            \"Hop\"\n",
      "        ],\n",
      "        \"categoryId\": \"10\",\n",
      "        \"liveBroadcastContent\": \"none\",\n",
      "        \"defaultLanguage\": null,\n",
      "        \"localized\": {\n",
      "            \"title\": \"GloRilla, Cardi B - Tomorrow 2 (Official Music Video)\",\n",
      "            \"description\": \"Stream #Tomorrow2' here: \\nhttps://GloRilla.lnk.to/Tomorrow2\\n\\nFollow #GloRilla:\\nInstagram: https://www.instagram.com/glorillapimp/\\nTikTok: https://www.tiktok.com/t/ZTR6WV6SC/\\nFacebook: https://www.facebook.com/gloyaltygirl\\nTwitter: https://twitter.com/GloTheofficial\\nFollow #CardiB:\\nInstagram: https://www.instagram.com/iamcardib/\\nTikTok: https://www.tiktok.com/@iamcardib\\nFacebook: https://www.facebook.com/cardib\\nTwitter: https://twitter.com/iamcardib/\\n\\n#Tomorrow2 #GloRilla #CardiB\\n\\nMusic video by GloRilla, Cardi B performing Tomorrow 2. \\u00a9 2022 CMG Enterprises/Interscope Records\\n\\nhttp://vevo.ly/JKU3ao\"\n",
      "        },\n",
      "        \"defaultAudioLanguage\": \"en\"\n",
      "    },\n",
      "    \"contentDetails\": {\n",
      "        \"duration\": \"PT3M34S\",\n",
      "        \"dimension\": \"2d\",\n",
      "        \"definition\": \"hd\",\n",
      "        \"caption\": \"false\",\n",
      "        \"licensedContent\": true,\n",
      "        \"regionRestriction\": {\n",
      "            \"allowed\": null,\n",
      "            \"blocked\": [\n",
      "                \"BY\",\n",
      "                \"IO\",\n",
      "                \"KP\",\n",
      "                \"RU\",\n",
      "                \"SS\"\n",
      "            ]\n",
      "        },\n",
      "        \"contentRating\": {},\n",
      "        \"projection\": \"rectangular\",\n",
      "        \"hasCustomThumbnail\": null\n",
      "    },\n",
      "    \"status\": {\n",
      "        \"uploadStatus\": \"processed\",\n",
      "        \"failureReason\": null,\n",
      "        \"rejectionReason\": null,\n",
      "        \"privacyStatus\": \"public\",\n",
      "        \"publishAt\": null,\n",
      "        \"license\": \"youtube\",\n",
      "        \"embeddable\": true,\n",
      "        \"publicStatsViewable\": true,\n",
      "        \"madeForKids\": false,\n",
      "        \"selfDeclaredMadeForKids\": null\n",
      "    },\n",
      "    \"statistics\": {\n",
      "        \"viewCount\": \"3568304\",\n",
      "        \"likeCount\": \"257932\",\n",
      "        \"dislikeCount\": null,\n",
      "        \"commentCount\": \"20915\"\n",
      "    },\n",
      "    \"topicDetails\": {\n",
      "        \"topicIds\": null,\n",
      "        \"relevantTopicIds\": null,\n",
      "        \"topicCategories\": [\n",
      "            \"https://en.wikipedia.org/wiki/Hip_hop_music\",\n",
      "            \"https://en.wikipedia.org/wiki/Music\"\n",
      "        ]\n",
      "    },\n",
      "    \"player\": {\n",
      "        \"embedHtml\": \"<iframe width=\\\"480\\\" height=\\\"270\\\" src=\\\"//www.youtube.com/embed/zwa7NzNBQig\\\" frameborder=\\\"0\\\" allow=\\\"accelerometer; autoplay; clipboard-write; encrypted-media; gyroscope; picture-in-picture\\\" allowfullscreen></iframe>\",\n",
      "        \"embedHeight\": null,\n",
      "        \"embedWidth\": null\n",
      "    }\n",
      "}\n"
     ]
    }
   ],
   "source": [
    "print(json.dumps(video.to_dict(), indent=4))"
   ]
  }
 ],
 "metadata": {
  "kernelspec": {
   "display_name": "Python 3.10.4 64-bit",
   "language": "python",
   "name": "python3"
  },
  "language_info": {
   "codemirror_mode": {
    "name": "ipython",
    "version": 3
   },
   "file_extension": ".py",
   "mimetype": "text/x-python",
   "name": "python",
   "nbconvert_exporter": "python",
   "pygments_lexer": "ipython3",
   "version": "3.10.4"
  },
  "orig_nbformat": 4,
  "vscode": {
   "interpreter": {
    "hash": "369f2c481f4da34e4445cda3fffd2e751bd1c4d706f27375911949ba6bb62e1c"
   }
  }
 },
 "nbformat": 4,
 "nbformat_minor": 2
}
