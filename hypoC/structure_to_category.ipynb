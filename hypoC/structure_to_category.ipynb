{
  "nbformat": 4,
  "nbformat_minor": 0,
  "metadata": {
    "colab": {
      "provenance": []
    },
    "kernelspec": {
      "name": "python3",
      "display_name": "Python 3"
    },
    "language_info": {
      "name": "python"
    }
  },
  "cells": [
    {
      "cell_type": "code",
      "execution_count": 1,
      "metadata": {
        "id": "thlccTFH1k0d"
      },
      "outputs": [],
      "source": [
        "import matplotlib.pyplot as plt\n",
        "import numpy as np\n",
        "import pandas as pd\n",
        "from sklearn import ensemble\n",
        "from sklearn.pipeline import make_pipeline\n",
        "from sklearn.preprocessing import StandardScaler\n",
        "from sklearn import svm\n",
        "from tqdm import tqdm\n",
        "import json\n",
        "import time\n",
        "import datetime"
      ]
    },
    {
      "cell_type": "code",
      "source": [
        "from google.colab import drive\n",
        "drive.mount('/content/drive')"
      ],
      "metadata": {
        "colab": {
          "base_uri": "https://localhost:8080/"
        },
        "id": "t_JdRY9S1rIE",
        "outputId": "b35d2453-5807-45d5-9025-981e419a7ddd"
      },
      "execution_count": 2,
      "outputs": [
        {
          "output_type": "stream",
          "name": "stdout",
          "text": [
            "Mounted at /content/drive\n"
          ]
        }
      ]
    },
    {
      "cell_type": "code",
      "source": [
        "%cd /content/drive/MyDrive/fall2022/cse512/project/hypoC"
      ],
      "metadata": {
        "colab": {
          "base_uri": "https://localhost:8080/"
        },
        "id": "Pw_b65t11uhX",
        "outputId": "f3988fc5-ee27-494e-8a56-bbc5d4691d58"
      },
      "execution_count": 3,
      "outputs": [
        {
          "output_type": "stream",
          "name": "stdout",
          "text": [
            "/content/drive/MyDrive/fall2022/cse512/project/hypoC\n"
          ]
        }
      ]
    },
    {
      "cell_type": "code",
      "source": [
        "with open('structure_to_category_epoch.json', 'r') as f:\n",
        "  data=json.load(f)"
      ],
      "metadata": {
        "id": "2RdE8PAf18pX"
      },
      "execution_count": 4,
      "outputs": []
    },
    {
      "cell_type": "code",
      "source": [
        "def getAccuracy(yhat, y):\n",
        "  compare=np.equal(y, yhat)\n",
        "  num_correct=np.count_nonzero(compare)\n",
        "  return num_correct/len(compare)"
      ],
      "metadata": {
        "id": "Auh4XFDJ3Ry8"
      },
      "execution_count": 5,
      "outputs": []
    },
    {
      "cell_type": "markdown",
      "source": [
        "Packing all the data"
      ],
      "metadata": {
        "id": "Y9zeWNUY2nTj"
      }
    },
    {
      "cell_type": "code",
      "source": [
        "Xtrain=[]\n",
        "ytrain=[]\n",
        "Xtest=[]\n",
        "ytest=[]\n",
        "for i in range(15000):\n",
        "  train_video=data[i]\n",
        "  test_video=data[i+15000]\n",
        "  Xtrain.append([train_video['published_at'], train_video['trending_date'], train_video['comment_view_ratio']])\n",
        "  ytrain.append(train_video['category'])\n",
        "\n",
        "  Xtest.append([test_video['published_at'], test_video['trending_date'], test_video['comment_view_ratio']])\n",
        "  ytest.append(test_video['category'])"
      ],
      "metadata": {
        "id": "lKOBzBY214Mc"
      },
      "execution_count": 6,
      "outputs": []
    },
    {
      "cell_type": "code",
      "source": [
        "clf=ensemble.BaggingClassifier(max_samples=0.63, max_features=2/3).fit(Xtrain, ytrain)"
      ],
      "metadata": {
        "id": "b7BbPOaM2svP"
      },
      "execution_count": 7,
      "outputs": []
    },
    {
      "cell_type": "code",
      "source": [
        "pred_train=clf.predict(Xtrain)\n",
        "pred_test=clf.predict(Xtest)"
      ],
      "metadata": {
        "id": "DMGd9W_o3qrN"
      },
      "execution_count": 8,
      "outputs": []
    },
    {
      "cell_type": "code",
      "source": [
        "print(getAccuracy(pred_train, ytrain))\n",
        "print(getAccuracy(pred_test, ytest))"
      ],
      "metadata": {
        "colab": {
          "base_uri": "https://localhost:8080/"
        },
        "id": "tXocEvKR3KHP",
        "outputId": "5af2424b-2c16-4c79-cfbb-11e90f99fcf7"
      },
      "execution_count": 9,
      "outputs": [
        {
          "output_type": "stream",
          "name": "stdout",
          "text": [
            "0.9022\n",
            "0.20053333333333334\n"
          ]
        }
      ]
    },
    {
      "cell_type": "code",
      "source": [
        "train_accuracies=[]\n",
        "test_accuracies=[]\n",
        "for i in tqdm(range(0, 500, 10)):\n",
        "  clf=ensemble.BaggingClassifier(n_estimators=i+10, max_samples=0.63, max_features=2/3).fit(Xtrain, ytrain)\n",
        "  pred_train=clf.predict(Xtrain)\n",
        "  pred_test=clf.predict(Xtest)\n",
        "  train_accuracies.append(getAccuracy(pred_train, ytrain))\n",
        "  test_accuracies.append(getAccuracy(pred_test, ytest))"
      ],
      "metadata": {
        "colab": {
          "base_uri": "https://localhost:8080/"
        },
        "id": "N173jZTU34rT",
        "outputId": "6bf5f893-1778-45b5-df65-a4503a3d60f6"
      },
      "execution_count": 11,
      "outputs": [
        {
          "output_type": "stream",
          "name": "stderr",
          "text": [
            "100%|██████████| 50/50 [09:33<00:00, 11.47s/it]\n"
          ]
        }
      ]
    },
    {
      "cell_type": "code",
      "source": [
        "print(train_accuracies[:10])\n",
        "print(test_accuracies[:10])"
      ],
      "metadata": {
        "colab": {
          "base_uri": "https://localhost:8080/"
        },
        "id": "pzn61z3-6WwD",
        "outputId": "777f89e0-71c8-45df-96f9-29a2f129b183"
      },
      "execution_count": 12,
      "outputs": [
        {
          "output_type": "stream",
          "name": "stdout",
          "text": [
            "[0.9024, 0.9688666666666667, 0.9854666666666667, 0.9918666666666667, 0.9955333333333334, 0.9967333333333334, 0.9982, 0.9979333333333333, 0.9992666666666666, 0.999]\n",
            "[0.2058, 0.21806666666666666, 0.21226666666666666, 0.21246666666666666, 0.22233333333333333, 0.2134, 0.2264, 0.23053333333333334, 0.22566666666666665, 0.22613333333333333]\n"
          ]
        }
      ]
    },
    {
      "cell_type": "code",
      "source": [
        "plt.plot(range(10, 501, 10), train_accuracies)"
      ],
      "metadata": {
        "colab": {
          "base_uri": "https://localhost:8080/",
          "height": 282
        },
        "id": "0CJwhzfF69JC",
        "outputId": "a7c43aea-4d14-4bc8-ecfc-a352606e263d"
      },
      "execution_count": 14,
      "outputs": [
        {
          "output_type": "execute_result",
          "data": {
            "text/plain": [
              "[<matplotlib.lines.Line2D at 0x7f5e6c7e2850>]"
            ]
          },
          "metadata": {},
          "execution_count": 14
        },
        {
          "output_type": "display_data",
          "data": {
            "text/plain": [
              "<Figure size 432x288 with 1 Axes>"
            ],
            "image/png": "[encoded data removed]"
          },
          "metadata": {
            "needs_background": "light"
          }
        }
      ]
    },
    {
      "cell_type": "code",
      "source": [
        "plt.plot(range(10, 501, 10), test_accuracies)"
      ],
      "metadata": {
        "colab": {
          "base_uri": "https://localhost:8080/",
          "height": 282
        },
        "id": "AXiqPn4u7Ho4",
        "outputId": "1faaac6a-a3f7-47f2-fc84-cb3bda3488dd"
      },
      "execution_count": 15,
      "outputs": [
        {
          "output_type": "execute_result",
          "data": {
            "text/plain": [
              "[<matplotlib.lines.Line2D at 0x7f5e6c767810>]"
            ]
          },
          "metadata": {},
          "execution_count": 15
        },
        {
          "output_type": "display_data",
          "data": {
            "text/plain": [
              "<Figure size 432x288 with 1 Axes>"
            ],
            "image/png": "[encoded data removed]"
          },
          "metadata": {
            "needs_background": "light"
          }
        }
      ]
    },
    {
      "cell_type": "markdown",
      "source": [
        "try to do it with svm"
      ],
      "metadata": {
        "id": "8-OGixIH9jWR"
      }
    },
    {
      "cell_type": "code",
      "source": [
        "clf=make_pipeline(StandardScaler(), svm.SVC(gamma='auto'))\n",
        "clf.fit(Xtrain, ytrain)"
      ],
      "metadata": {
        "colab": {
          "base_uri": "https://localhost:8080/"
        },
        "id": "KQnGRb5l9liY",
        "outputId": "07aa02ba-6164-4203-bddb-c16e66b16658"
      },
      "execution_count": 16,
      "outputs": [
        {
          "output_type": "execute_result",
          "data": {
            "text/plain": [
              "Pipeline(steps=[('standardscaler', StandardScaler()),\n",
              "                ('svc', SVC(gamma='auto'))])"
            ]
          },
          "metadata": {},
          "execution_count": 16
        }
      ]
    },
    {
      "cell_type": "code",
      "source": [
        "pred_train=clf.predict(Xtrain)\n",
        "pred_test=clf.predict(Xtest)\n",
        "print(getAccuracy(pred_train, ytrain))\n",
        "print(getAccuracy(pred_test, ytest))"
      ],
      "metadata": {
        "colab": {
          "base_uri": "https://localhost:8080/"
        },
        "id": "fiygRV7A-oOx",
        "outputId": "fe0bf9eb-1b3c-4ce9-f3a6-5c9643cf4027"
      },
      "execution_count": 17,
      "outputs": [
        {
          "output_type": "stream",
          "name": "stdout",
          "text": [
            "0.23213333333333333\n",
            "0.223\n"
          ]
        }
      ]
    }
  ]
}